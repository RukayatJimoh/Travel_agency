{
 "cells": [
  {
   "cell_type": "markdown",
   "id": "bcea9c3d-7abe-4e33-bd82-0355b0874404",
   "metadata": {},
   "source": [
    "# Data Extraction from REST API"
   ]
  },
  {
   "cell_type": "markdown",
   "id": "84b49d7a-d000-4c7a-ab42-7ae9fb6cb9f3",
   "metadata": {},
   "source": [
    "## Libraries installation"
   ]
  },
  {
   "cell_type": "code",
   "execution_count": null,
   "id": "dd095981-20ba-4dd8-ad40-44deaa293a1d",
   "metadata": {},
   "outputs": [],
   "source": [
    "#install the required libraries\n",
    "pip install requests\n",
    "pip install pandas\n",
    "pip install boto3\n",
    "pip install awswrangler\n",
    "pip install numpy\n",
    "pip install pandas sqlalchemy pyodbc\n",
    "pip install psycopg2-binary"
   ]
  },
  {
   "cell_type": "markdown",
   "id": "6fe0dc5a-21d3-4a82-82ef-83a3b42c005f",
   "metadata": {},
   "source": [
    "## Libraries importation"
   ]
  },
  {
   "cell_type": "code",
   "execution_count": null,
   "id": "dd6e8593-c937-485d-80c1-09b88db20128",
   "metadata": {},
   "outputs": [],
   "source": [
    "#importing the required libraries\n",
    "import pandas as pd\n",
    "import requests\n",
    "import boto3\n",
    "import awswrangler as wr\n",
    "import numpy\n",
    "from sqlalchemy import create_engine\n",
    "import psycopg2"
   ]
  },
  {
   "cell_type": "markdown",
   "id": "eddaf815-d08f-4309-a1cc-21fec9dc5d59",
   "metadata": {},
   "source": [
    "## Data extraction using python request"
   ]
  },
  {
   "cell_type": "code",
   "execution_count": null,
   "id": "e98936f5-6ec2-412b-823a-a54276062c2b",
   "metadata": {},
   "outputs": [],
   "source": [
    "# extraction using python request method\n",
    "response = requests.get(\"https://restcountries.com/v3.1/all\")"
   ]
  },
  {
   "cell_type": "code",
   "execution_count": null,
   "id": "28be8ce3-71dc-46c2-bc16-7783932f0af2",
   "metadata": {},
   "outputs": [],
   "source": [
    "#checking the status code of the responses receive by the server\n",
    "response.status_code"
   ]
  },
  {
   "cell_type": "code",
   "execution_count": null,
   "id": "f8faef1b-cf6e-41ee-a1fd-ec4d1e4b8964",
   "metadata": {},
   "outputs": [],
   "source": [
    "response = response.json()"
   ]
  },
  {
   "cell_type": "code",
   "execution_count": null,
   "id": "6225ebaf-0493-4220-bf45-bfa5940eca18",
   "metadata": {},
   "outputs": [],
   "source": [
    "#returning the first list to investigate the items\n",
    "response[0]"
   ]
  },
  {
   "cell_type": "code",
   "execution_count": null,
   "id": "1078d099-3ee5-4e73-b48c-8b5c2fde7be1",
   "metadata": {},
   "outputs": [],
   "source": [
    "#extracting the relevant columns \n",
    "extracted_datas = []\n",
    "for item in response:\n",
    "    name_info = item.get('name',{})\n",
    "    country_name = name_info.get('common','')\n",
    "    common_native_name = name_info.get('nativeName',{}).get('eng',{}).get('official','')\n",
    "    official_country_name = name_info.get('official','')\n",
    "    independence = item.get('independent','')\n",
    "    united_Nation_members = item.get('unMember','')\n",
    "    startOfWeek = item.get('startOfWeek','')\n",
    "    capital = item.get('capital',[''])[0]\n",
    "    region = item.get('region','')\n",
    "    sub_region = item.get('subregion','')\n",
    "    areas = item.get('area','')\n",
    "    population = item.get('population','')\n",
    "    continents = item.get('continents',[''])[0]\n",
    "    languages = ', '.join(item.get('languages',{}).values())\n",
    "    idd_info = item.get('idd',{})\n",
    "    idd_root = idd_info.get('root','')\n",
    "    idd_suffix = ''.join(idd_info.get('suffixes',[]))\n",
    "    country_code = idd_root + idd_suffix\n",
    "    currency_info = item.get('currencies',{})\n",
    "    currency_code = next(iter(currency_info),'')\n",
    "    currency_name = currency_info.get(currency_code,{}).get('name','')\n",
    "    currency_symbol = currency_info.get(currency_code,{}).get('symbol','')\n",
    "    \n",
    "# appending the extracted data into the empty list created\n",
    "    extracted_datas.append({\n",
    "        'country_name': country_name,\n",
    "        'common_native_name': common_native_name,\n",
    "        'official_country_name': official_country_name,\n",
    "        'independence': independence,\n",
    "        'united_Nation_members': united_Nation_members,\n",
    "        'startOfWeek': startOfWeek,\n",
    "        'currency_name': currency_name,\n",
    "        'currency_symbol':currency_symbol,\n",
    "        'capital':capital,\n",
    "        'region':region,\n",
    "        'sub_region': sub_region,\n",
    "        'languages':languages,\n",
    "        'areas': areas,\n",
    "        'population': population,\n",
    "        'continents': continents,\n",
    "        'currency_code':currency_code,\n",
    "        'country_code': country_code\n",
    "        \n",
    "    })\n",
    "# Converted to DataFrame for easier manipulation\n",
    "df=pd.DataFrame(extracted_datas)\n",
    "df"
   ]
  },
  {
   "cell_type": "markdown",
   "id": "787d8c86-9571-4e9d-9ad6-3c91ca515d02",
   "metadata": {},
   "source": [
    "# Writing the dataframe to a postgres db hosted in AWS cloud  "
   ]
  },
  {
   "cell_type": "markdown",
   "id": "980382a2-f368-4496-b08e-06025e810577",
   "metadata": {},
   "source": [
    "## Retrieving the database password from AWS SSM parameter"
   ]
  },
  {
   "cell_type": "code",
   "execution_count": null,
   "id": "3b1559ba-9d80-4554-a26b-8dd55e979083",
   "metadata": {},
   "outputs": [],
   "source": [
    "# Initialize a session using Boto3\n",
    "session = boto3.Session(region_name='eu-central-1')"
   ]
  },
  {
   "cell_type": "code",
   "execution_count": null,
   "id": "c086ed81-7fba-4068-aeb3-724fbc331cc0",
   "metadata": {},
   "outputs": [],
   "source": [
    "# Initialize the SSM client\n",
    "ssm_client = session.client('ssm')"
   ]
  },
  {
   "cell_type": "code",
   "execution_count": null,
   "id": "d36e0c87-17b7-47bb-ada5-115ea8085bc9",
   "metadata": {},
   "outputs": [],
   "source": [
    "# retrieving the parameter value\n",
    "parameter_name = 'DEC_hackathon_db_pwd'\n",
    "parameter = ssm_client.get_parameter(Name=parameter_name, WithDecryption=True)\n",
    "db_password = parameter['Parameter']['Value']"
   ]
  },
  {
   "cell_type": "code",
   "execution_count": null,
   "id": "21734bc8-04d8-42d2-aa16-540fcd23cfc4",
   "metadata": {},
   "outputs": [],
   "source": [
    "# creating a connection engine\n",
    "\n",
    "db_username = 'bimmy'\n",
    "db_name = 'dec_hackathon_db'\n",
    "db_host = 'dec-hackathon.c7a2yi4u263m.eu-central-1.rds.amazonaws.com' \n",
    "db_port = 5432\n",
    "\n",
    "engine = create_engine(f'postgresql+psycopg2://{db_username}:{db_password}@{db_host}:{db_port}/{db_name}')\n"
   ]
  },
  {
   "cell_type": "code",
   "execution_count": null,
   "id": "12638937-3d61-4dfc-8332-edf8e9647436",
   "metadata": {},
   "outputs": [],
   "source": [
    "# Writing the DataFrame to PostgreSQL table\n",
    "df.to_sql('dec_hackathon_tb', engine, if_exists='replace', index=False)"
   ]
  }
 ],
 "metadata": {
  "kernelspec": {
   "display_name": "Python 3 (ipykernel)",
   "language": "python",
   "name": "python3"
  },
  "language_info": {
   "codemirror_mode": {
    "name": "ipython",
    "version": 3
   },
   "file_extension": ".py",
   "mimetype": "text/x-python",
   "name": "python",
   "nbconvert_exporter": "python",
   "pygments_lexer": "ipython3",
   "version": "3.9.6"
  }
 },
 "nbformat": 4,
 "nbformat_minor": 5
}
